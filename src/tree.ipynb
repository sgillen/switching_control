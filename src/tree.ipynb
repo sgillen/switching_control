{
 "cells": [
  {
   "cell_type": "code",
   "execution_count": 1,
   "metadata": {},
   "outputs": [],
   "source": [
    "from gym import core, spaces\n",
    "import numpy as np\n",
    "class TreeSimple(core.Env):\n",
    "    def __init__(self, L = 5.0, init_y = 2, g = -5, dt = .1, tol = .1, N = 5):\n",
    "        self.L = L\n",
    "        self.init_y = init_y\n",
    "        self.g = g\n",
    "        self.dt = dt\n",
    "        self.tol = tol\n",
    "        self.N = N\n",
    "        \n",
    "        self.observation_space = spaces.Box(low = np.array([-10.0, -10.0]), high = np.array([10.0, 10.0]))\n",
    "        self.action_space = spaces.Box(low=np.array([-self.L]), high=np.array([self.L]))\n",
    "                \n",
    "        self.deadzone = np.array([3,7])\n",
    "        self.xrange = np.array([0.0, 10.0])\n",
    "        \n",
    "    def seed(self, seed=None):\n",
    "        np.random.seed(seed)\n",
    "        \n",
    "    def reset(self):\n",
    "        self.x = np.random.uniform(low=self.xrange[0], high=self.xrange[1])\n",
    "        self.y = self.init_y\n",
    "        self.X = np.array([self.x, self.y])\n",
    "        self.cur_step = 0\n",
    "        return self.X\n",
    "    \n",
    "    def step(self, act):\n",
    "        x = self.X[0]\n",
    "        y = self.X[1]\n",
    "        reward = np.array([0.0], dtype=act.dtype)\n",
    "        done = False\n",
    "        \n",
    "        \n",
    "        act = np.clip(act, -self.L, self.L)\n",
    "        \n",
    "        x += act*self.dt\n",
    "        x = np.clip(x, self.xrange[0], self.xrange[1]).item()\n",
    "        y += self.g*self.dt\n",
    "        \n",
    "        self.X = np.array([x,y])\n",
    "        \n",
    "      \n",
    "        reward = -0.01*act**2 + 1;\n",
    "        \n",
    "        if (self.deadzone[0] < x < self.deadzone[1]) and (-self.tol < y < self.tol):\n",
    "            done = True\n",
    "            reward -= 25.0\n",
    "            \n",
    "        self.cur_step += 1\n",
    "        if self.cur_step >= self.N:\n",
    "            done = True\n",
    "            \n",
    "        return self.X, reward, done, {}\n",
    "        \n",
    "        \n",
    "        \n",
    "        "
   ]
  },
  {
   "cell_type": "code",
   "execution_count": 2,
   "metadata": {},
   "outputs": [],
   "source": [
    "from gym import register\n",
    "register(id='tree_simple-v0', entry_point=TreeSimple)"
   ]
  },
  {
   "cell_type": "code",
   "execution_count": 3,
   "metadata": {},
   "outputs": [
    {
     "name": "stderr",
     "output_type": "stream",
     "text": [
      "/home/sgillen/anaconda3/envs/baselines/lib/python3.6/site-packages/gym/logger.py:30: UserWarning: \u001b[33mWARN: Box bound precision lowered by casting to float32\u001b[0m\n",
      "  warnings.warn(colorize('%s: %s'%('WARN', msg % args), 'yellow'))\n"
     ]
    },
    {
     "data": {
      "text/plain": [
       "(array([6.77465773, 1.        ]),\n",
       " array([0.99369913], dtype=float32),\n",
       " False,\n",
       " {})"
      ]
     },
     "execution_count": 3,
     "metadata": {},
     "output_type": "execute_result"
    }
   ],
   "source": [
    "import gym\n",
    "env = gym.make('tree_simple-v0')\n",
    "env.reset()\n",
    "env.step(env.action_space.sample())\n",
    "env.step(env.action_space.sample())"
   ]
  },
  {
   "cell_type": "code",
   "execution_count": 4,
   "metadata": {},
   "outputs": [],
   "source": [
    "from seagul.rl.sac import SACAgent, SACModel\n",
    "from seagul.nn import MLP"
   ]
  },
  {
   "cell_type": "code",
   "execution_count": 5,
   "metadata": {},
   "outputs": [],
   "source": [
    "policy_net = MLP(env.observation_space.shape[0], env.action_space.shape[0]*2, 2, 32, input_bias=True)\n",
    "value_net = MLP(env.observation_space.shape[0], 1, 2, 32, input_bias=True)\n",
    "q1_net = MLP(env.observation_space.shape[0]+env.action_space.shape[0], 1, 2, 32, input_bias=True)\n",
    "q2_net = MLP(env.observation_space.shape[0]+env.action_space.shape[0], 1, 2, 32, input_bias=True)\n",
    "\n",
    "\n",
    "model = SACModel(policy_net, value_net, q1_net, q2_net, 5) \n",
    "agent = SACAgent('tree_simple-v0', model, env_max_steps = 5)"
   ]
  },
  {
   "cell_type": "code",
   "execution_count": 6,
   "metadata": {},
   "outputs": [
    {
     "name": "stderr",
     "output_type": "stream",
     "text": [
      "/home/sgillen/anaconda3/envs/baselines/lib/python3.6/site-packages/gym/logger.py:30: UserWarning: \u001b[33mWARN: Box bound precision lowered by casting to float32\u001b[0m\n",
      "  warnings.warn(colorize('%s: %s'%('WARN', msg % args), 'yellow'))\n"
     ]
    },
    {
     "data": {
      "application/vnd.jupyter.widget-view+json": {
       "model_id": "90f8909ded1e46b69811f533ec6426ca",
       "version_major": 2,
       "version_minor": 0
      },
      "text/plain": [
       "HBox(children=(FloatProgress(value=0.0, max=11000.0), HTML(value='')))"
      ]
     },
     "metadata": {},
     "output_type": "display_data"
    }
   ],
   "source": [
    "agent.learn(10000);"
   ]
  },
  {
   "cell_type": "code",
   "execution_count": 7,
   "metadata": {},
   "outputs": [
    {
     "data": {
      "text/plain": [
       "[<matplotlib.lines.Line2D at 0x7eff91414cf8>]"
      ]
     },
     "execution_count": 7,
     "metadata": {},
     "output_type": "execute_result"
    },
    {
     "data": {
      "image/png": "[encoded data removed]",
      "text/plain": [
       "<Figure size 432x288 with 1 Axes>"
      ]
     },
     "metadata": {
      "needs_background": "light"
     },
     "output_type": "display_data"
    }
   ],
   "source": [
    "import matplotlib.pyplot as plt\n",
    "plt.plot(agent.raw_rew_hist)"
   ]
  },
  {
   "cell_type": "code",
   "execution_count": 8,
   "metadata": {},
   "outputs": [],
   "source": [
    "x = np.linspace(0,10, 100);\n",
    "y = np.linspace(2,-1,100);\n",
    "\n",
    "\n",
    "U = np.zeros([x.shape[0], y.shape[0]]);\n",
    "\n",
    "for i in range(U.shape[0]):\n",
    "    for j in range(U.shape[1]):\n",
    "        U[i,j] = agent.model.policy(np.array([x[i], y[j]], dtype=np.float32))[0]\n",
    "\n"
   ]
  },
  {
   "cell_type": "code",
   "execution_count": 10,
   "metadata": {},
   "outputs": [],
   "source": [
    "X,Y = np.meshgrid(x,y)\n",
    "fig, ax = plt.subplots(subplot_kw={\"projection\": \"3d\"})\n",
    "\n",
    "%matplotlib qt\n",
    "\n",
    "ax.plot_surface(X,Y,U)\n",
    "plt.show()"
   ]
  },
  {
   "cell_type": "code",
   "execution_count": 23,
   "metadata": {},
   "outputs": [
    {
     "name": "stdout",
     "output_type": "stream",
     "text": [
      "[2, 4]\n",
      "[6, 8]\n"
     ]
    }
   ],
   "source": [
    "deadzones = [[2, 4],[6,8]]\n",
    "x = 5\n",
    "for deadzone in deadzones[:]:\n"
   ]
  },
  {
   "cell_type": "code",
   "execution_count": 20,
   "metadata": {},
   "outputs": [
    {
     "data": {
      "text/plain": [
       "array([2, 6])"
      ]
     },
     "execution_count": 20,
     "metadata": {},
     "output_type": "execute_result"
    }
   ],
   "source": [
    "deadzones[:,0] "
   ]
  },
  {
   "cell_type": "code",
   "execution_count": null,
   "metadata": {},
   "outputs": [],
   "source": []
  }
 ],
 "metadata": {
  "kernelspec": {
   "display_name": "Mujoco 1.5",
   "language": "python",
   "name": "python3"
  },
  "language_info": {
   "codemirror_mode": {
    "name": "ipython",
    "version": 3
   },
   "file_extension": ".py",
   "mimetype": "text/x-python",
   "name": "python",
   "nbconvert_exporter": "python",
   "pygments_lexer": "ipython3",
   "version": "3.6.10"
  }
 },
 "nbformat": 4,
 "nbformat_minor": 4
}
