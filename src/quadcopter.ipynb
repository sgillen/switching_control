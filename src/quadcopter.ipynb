{
 "cells": [
  {
   "cell_type": "code",
   "execution_count": 1,
   "metadata": {},
   "outputs": [
    {
     "name": "stderr",
     "output_type": "stream",
     "text": [
      "/home/sgillen/work/seagul/seagul/envs/__init__.py:56: UserWarning: Warning, pybullet envs not installed\n",
      "  warnings.warn(\"Warning, pybullet envs not installed\")\n"
     ]
    }
   ],
   "source": [
    "from seagul.envs.classic_control.planar_quadcopter import PlanarQuadCopter\n",
    "import matplotlib.pyplot as plt\n",
    "import numpy as np\n",
    "import gym\n",
    "%load_ext autoreload\n",
    "%autoreload 2"
   ]
  },
  {
   "cell_type": "code",
   "execution_count": 2,
   "metadata": {},
   "outputs": [],
   "source": [
    "env = gym.make('planar_quad-v0')"
   ]
  },
  {
   "cell_type": "code",
   "execution_count": 3,
   "metadata": {},
   "outputs": [
    {
     "data": {
      "text/plain": [
       "array([0., 0., 0., 0., 0., 0.], dtype=float32)"
      ]
     },
     "execution_count": 3,
     "metadata": {},
     "output_type": "execute_result"
    }
   ],
   "source": [
    "env.reset()"
   ]
  },
  {
   "cell_type": "code",
   "execution_count": 4,
   "metadata": {},
   "outputs": [
    {
     "name": "stdout",
     "output_type": "stream",
     "text": [
      "-5.306411675815452\n"
     ]
    },
    {
     "data": {
      "image/png": "[encoded data removed]",
      "text/plain": [
       "<Figure size 432x288 with 1 Axes>"
      ]
     },
     "metadata": {
      "needs_background": "light"
     },
     "output_type": "display_data"
    }
   ],
   "source": [
    "obs = []\n",
    "rew = []\n",
    "env.reset()\n",
    "for i in range(100):\n",
    "    o,r,_,_ = env.step([50,-3])\n",
    "    obs.append(o)\n",
    "    rew.append(r)\n",
    "\n",
    "obs = np.array(obs)\n",
    "print(sum(rew))\n",
    "plt.figure()\n",
    "env.plot_episode(obs)"
   ]
  },
  {
   "cell_type": "code",
   "execution_count": 28,
   "metadata": {},
   "outputs": [],
   "source": [
    "from seagul.rl.ars import ARSAgent\n",
    "from seagul.rl.ars.ars_torch import ARSAgent as ARSTorchAgent\n",
    "from seagul.rl.ars.ars_torch import ARSModel\n",
    "\n",
    "from seagul.nn import MLP\n",
    "\n",
    "policy = MLP(env.observation_space.shape[0], env.action_space.shape[0], 0, 0, input_bias=True)\n",
    "model = ARSModel(policy, None, None)\n",
    "env_config = {\"xtarg\":2, \"ytarg\":2, \"num_steps\":250}\n",
    "torch_agent = ARSTorchAgent('planar_quad-v0',model=model, seed=0, n_workers=24, env_config=env_config)\n",
    "\n",
    "np_agent = ARSAgent('planar_quad-v0', seed=2,n_workers=24, env_config=env_config)"
   ]
  },
  {
   "cell_type": "code",
   "execution_count": 29,
   "metadata": {},
   "outputs": [
    {
     "name": "stdout",
     "output_type": "stream",
     "text": [
      "0 : mean return: -23.018838486765464, top_return: -22.789072671646284, fps:51110.277959117724\n",
      "10 : mean return: -19.085363091609846, top_return: -18.813026989478153, fps:53338.879692968534\n",
      "20 : mean return: -18.303671278873296, top_return: -18.078529212609435, fps:53245.76652794922\n",
      "30 : mean return: -17.030321021799864, top_return: -16.470475386929014, fps:52745.73739429684\n",
      "40 : mean return: -15.244180080254136, top_return: -15.06866026998101, fps:52914.37270708938\n",
      "50 : mean return: -14.682770037448698, top_return: -14.518698962438506, fps:53461.530400422125\n",
      "60 : mean return: -14.260651732750588, top_return: -14.12257593154262, fps:53661.393592391214\n",
      "70 : mean return: -13.92675578121106, top_return: -13.813069480235677, fps:51805.259971643594\n",
      "80 : mean return: -12.73321887258938, top_return: -12.344919575260981, fps:52025.789592108566\n",
      "90 : mean return: -10.917925394899598, top_return: -10.2916005459018, fps:53280.54577660813\n",
      "100 : mean return: -9.643744013224321, top_return: -9.406819193229195, fps:53212.12528174809\n",
      "110 : mean return: -8.980095178815667, top_return: -8.841610362490623, fps:52740.57645615774\n",
      "120 : mean return: -8.681866142290605, top_return: -8.607646837760655, fps:53495.317944674825\n",
      "130 : mean return: -8.612381199794793, top_return: -8.555964326375822, fps:43362.0791566645\n",
      "140 : mean return: -8.588856791189391, top_return: -8.535147187661337, fps:52565.8675283924\n",
      "150 : mean return: -8.5802546679594, top_return: -8.528121187330967, fps:53294.45333898624\n",
      "160 : mean return: -8.564483578962195, top_return: -8.51259114015746, fps:53058.59000555964\n",
      "170 : mean return: -8.534699801542814, top_return: -8.50348598073275, fps:53266.7296933206\n",
      "180 : mean return: -8.522546805486574, top_return: -8.492132954334556, fps:53055.24759005501\n",
      "190 : mean return: -8.532909459719221, top_return: -8.49013771641117, fps:50429.694577505266\n",
      "200 : mean return: -8.540113208593688, top_return: -8.485233169613673, fps:52707.85897696657\n",
      "210 : mean return: -8.510455584620171, top_return: -8.477377431351519, fps:52332.167597027714\n",
      "220 : mean return: -8.499489654209313, top_return: -8.470785504688301, fps:49335.75613188654\n",
      "230 : mean return: -8.494482700850961, top_return: -8.461528342818516, fps:45004.668607284126\n",
      "240 : mean return: -8.487792372253818, top_return: -8.461009904084387, fps:46729.140758279704\n",
      "250 : mean return: -8.484840284175238, top_return: -8.45897311137681, fps:48227.85206096795\n",
      "260 : mean return: -8.477004920340926, top_return: -8.452913979287421, fps:43870.998893739765\n",
      "270 : mean return: -8.474077238768809, top_return: -8.445416711299838, fps:45390.41121534362\n",
      "280 : mean return: -8.466096181733713, top_return: -8.44492897756376, fps:50759.04267832861\n",
      "290 : mean return: -8.464032382796146, top_return: -8.439679629039139, fps:49234.59673290732\n",
      "300 : mean return: -8.453870800290956, top_return: -8.434234780121793, fps:52406.12678155305\n",
      "310 : mean return: -8.445942037834932, top_return: -8.42452652120366, fps:47440.78427308061\n",
      "320 : mean return: -8.436519315308018, top_return: -8.420612040292623, fps:51338.018900889576\n",
      "330 : mean return: -8.430475030013863, top_return: -8.417247288046303, fps:47610.712384581086\n",
      "340 : mean return: -8.437875287062152, top_return: -8.41462235922967, fps:47945.613530626506\n",
      "350 : mean return: -8.432235483590118, top_return: -8.407395515776493, fps:46353.45718325072\n",
      "360 : mean return: -8.42333137378449, top_return: -8.40207417830644, fps:49706.05227976083\n",
      "370 : mean return: -8.414401462095269, top_return: -8.39970171286491, fps:53383.21099335734\n",
      "380 : mean return: -8.411525547742588, top_return: -8.390299647402122, fps:53115.30808271121\n",
      "390 : mean return: -8.415679299287877, top_return: -8.389147114565167, fps:52458.68028664235\n",
      "400 : mean return: -8.409026868968803, top_return: -8.38624601949372, fps:50134.23197796327\n",
      "410 : mean return: -8.41027069852854, top_return: -8.383436841734534, fps:52966.8267652779\n",
      "420 : mean return: -8.39383198426217, top_return: -8.37895438028269, fps:53112.50279328728\n",
      "430 : mean return: -8.396606242868218, top_return: -8.37729227404938, fps:53365.19912242489\n",
      "440 : mean return: -8.392850948324718, top_return: -8.372273429617175, fps:52753.91438772315\n",
      "450 : mean return: -8.389075308435068, top_return: -8.367809497232743, fps:51438.58953979016\n",
      "460 : mean return: -8.38235946487239, top_return: -8.36613548735435, fps:53069.748366216416\n",
      "470 : mean return: -8.376704064722446, top_return: -8.357457011323094, fps:52573.98884338051\n",
      "480 : mean return: -8.375754105305433, top_return: -8.358499657641444, fps:52623.42707676783\n",
      "490 : mean return: -8.367216100559434, top_return: -8.355765448881298, fps:52990.73801172166\n"
     ]
    }
   ],
   "source": [
    "agent = torch_agent\n",
    "agent.learn(500);"
   ]
  },
  {
   "cell_type": "code",
   "execution_count": 30,
   "metadata": {},
   "outputs": [
    {
     "data": {
      "text/plain": [
       "[<matplotlib.lines.Line2D at 0x7fae0308c650>]"
      ]
     },
     "execution_count": 30,
     "metadata": {},
     "output_type": "execute_result"
    },
    {
     "data": {
      "image/png": "[encoded data removed]",
      "text/plain": [
       "<Figure size 432x288 with 1 Axes>"
      ]
     },
     "metadata": {
      "needs_background": "light"
     },
     "output_type": "display_data"
    }
   ],
   "source": [
    "plt.plot(agent.raw_rew_hist)"
   ]
  },
  {
   "cell_type": "code",
   "execution_count": 31,
   "metadata": {},
   "outputs": [],
   "source": [
    "def do_rollout(env, policy):\n",
    "    state_list = []\n",
    "    act_list = []\n",
    "    reward_list = []\n",
    "\n",
    "    obs = env.reset()\n",
    "    done = False\n",
    "    while not done:\n",
    "        state_list.append(np.copy(obs))\n",
    "\n",
    "        actions,_,_,_ = policy.step(obs)\n",
    "        obs, reward, done, _ = env.step(actions)\n",
    "\n",
    "        act_list.append(np.array(actions))\n",
    "        reward_list.append(reward)\n",
    "\n",
    "\n",
    "    state_arr = np.stack(state_list)\n",
    "    act_arr = np.stack(act_list)\n",
    "    reward_arr = np.array(reward_list)\n",
    "    \n",
    "\n",
    "    return state_arr, act_arr, reward_arr\n"
   ]
  },
  {
   "cell_type": "code",
   "execution_count": 32,
   "metadata": {},
   "outputs": [],
   "source": [
    "o,a,r = do_rollout(env, agent.model)"
   ]
  },
  {
   "cell_type": "code",
   "execution_count": 33,
   "metadata": {},
   "outputs": [
    {
     "data": {
      "text/plain": [
       "[<matplotlib.lines.Line2D at 0x7fae02ef26d0>]"
      ]
     },
     "execution_count": 33,
     "metadata": {},
     "output_type": "execute_result"
    },
    {
     "data": {
      "image/png": "[encoded data removed]",
      "text/plain": [
       "<Figure size 432x288 with 1 Axes>"
      ]
     },
     "metadata": {
      "needs_background": "light"
     },
     "output_type": "display_data"
    },
    {
     "data": {
      "image/png": "[encoded data removed]",
      "text/plain": [
       "<Figure size 432x288 with 1 Axes>"
      ]
     },
     "metadata": {
      "needs_background": "light"
     },
     "output_type": "display_data"
    }
   ],
   "source": [
    "env.plot_episode(o)\n",
    "plt.figure()\n",
    "plt.plot(r)"
   ]
  },
  {
   "cell_type": "code",
   "execution_count": 34,
   "metadata": {},
   "outputs": [
    {
     "ename": "AttributeError",
     "evalue": "'PlanarQuadCopter' object has no attribute 'L'",
     "output_type": "error",
     "traceback": [
      "\u001b[0;31m---------------------------------------------------------------------------\u001b[0m",
      "\u001b[0;31mAttributeError\u001b[0m                            Traceback (most recent call last)",
      "\u001b[0;32m<ipython-input-34-a3c13e7526ba>\u001b[0m in \u001b[0;36m<module>\u001b[0;34m\u001b[0m\n\u001b[1;32m     13\u001b[0m      \u001b[0mq1_fn\u001b[0m \u001b[0;34m=\u001b[0m \u001b[0mMLP\u001b[0m\u001b[0;34m(\u001b[0m\u001b[0minput_size\u001b[0m\u001b[0;34m+\u001b[0m\u001b[0moutput_size\u001b[0m\u001b[0;34m,\u001b[0m \u001b[0;36m1\u001b[0m\u001b[0;34m,\u001b[0m \u001b[0mnum_layers\u001b[0m\u001b[0;34m,\u001b[0m \u001b[0mlayer_size\u001b[0m\u001b[0;34m)\u001b[0m\u001b[0;34m,\u001b[0m\u001b[0;34m\u001b[0m\u001b[0;34m\u001b[0m\u001b[0m\n\u001b[1;32m     14\u001b[0m      \u001b[0mq2_fn\u001b[0m \u001b[0;34m=\u001b[0m \u001b[0mMLP\u001b[0m\u001b[0;34m(\u001b[0m\u001b[0minput_size\u001b[0m\u001b[0;34m+\u001b[0m\u001b[0moutput_size\u001b[0m\u001b[0;34m,\u001b[0m \u001b[0;36m1\u001b[0m\u001b[0;34m,\u001b[0m \u001b[0mnum_layers\u001b[0m\u001b[0;34m,\u001b[0m \u001b[0mlayer_size\u001b[0m\u001b[0;34m)\u001b[0m\u001b[0;34m,\u001b[0m\u001b[0;34m\u001b[0m\u001b[0;34m\u001b[0m\u001b[0m\n\u001b[0;32m---> 15\u001b[0;31m      \u001b[0mact_limit\u001b[0m\u001b[0;34m=\u001b[0m\u001b[0menv\u001b[0m\u001b[0;34m.\u001b[0m\u001b[0mL\u001b[0m\u001b[0;34m\u001b[0m\u001b[0;34m\u001b[0m\u001b[0m\n\u001b[0m\u001b[1;32m     16\u001b[0m )\n\u001b[1;32m     17\u001b[0m \u001b[0;34m\u001b[0m\u001b[0m\n",
      "\u001b[0;31mAttributeError\u001b[0m: 'PlanarQuadCopter' object has no attribute 'L'"
     ]
    }
   ],
   "source": [
    "from seagul.rl.sac import SACAgent, SACModel\n",
    "from seagul.nn import MLP\n",
    "env_name = 'planar_quad-v0'\n",
    "\n",
    "input_size = env.observation_space.shape[0]\n",
    "output_size = env.action_space.shape[0]\n",
    "layer_size = 64\n",
    "num_layers = 2\n",
    "\n",
    "model = SACModel(\n",
    "     policy = MLP(input_size, output_size*2, num_layers, layer_size),\n",
    "     value_fn= MLP(input_size, 1, num_layers, layer_size),\n",
    "     q1_fn = MLP(input_size+output_size, 1, num_layers, layer_size),\n",
    "     q2_fn = MLP(input_size+output_size, 1, num_layers, layer_size),\n",
    ")\n",
    "\n",
    "agent = SACAgent(env_name=env_name, model=model, seed=int(0), exploration_steps=5000,\n",
    "     min_steps_per_update=1, reward_stop=3000, gamma=1, sgd_batch_size=64,\n",
    "     replay_batch_size=256, iters_per_update=1, env_max_steps=250,\n",
    "     polyak=.995)\n"
   ]
  },
  {
   "cell_type": "code",
   "execution_count": null,
   "metadata": {},
   "outputs": [],
   "source": [
    "agent.learn(2e6);"
   ]
  },
  {
   "cell_type": "code",
   "execution_count": null,
   "metadata": {},
   "outputs": [],
   "source": [
    "plt.plot(agent.raw_rew_hist)"
   ]
  },
  {
   "cell_type": "code",
   "execution_count": null,
   "metadata": {},
   "outputs": [],
   "source": [
    "A = np.identity(5)\n",
    "x = np.ones((5,1))*5"
   ]
  },
  {
   "cell_type": "code",
   "execution_count": null,
   "metadata": {},
   "outputs": [],
   "source": [
    "x**2"
   ]
  },
  {
   "cell_type": "code",
   "execution_count": null,
   "metadata": {},
   "outputs": [],
   "source": []
  }
 ],
 "metadata": {
  "kernelspec": {
   "display_name": "Base (3.7)",
   "language": "python",
   "name": "base"
  },
  "language_info": {
   "codemirror_mode": {
    "name": "ipython",
    "version": 3
   },
   "file_extension": ".py",
   "mimetype": "text/x-python",
   "name": "python",
   "nbconvert_exporter": "python",
   "pygments_lexer": "ipython3",
   "version": "3.7.4"
  }
 },
 "nbformat": 4,
 "nbformat_minor": 4
}
