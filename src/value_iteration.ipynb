{
 "cells": [
  {
   "cell_type": "code",
   "execution_count": 1,
   "metadata": {},
   "outputs": [
    {
     "name": "stderr",
     "output_type": "stream",
     "text": [
      "/home/sgillen/work/seagul/seagul/envs/__init__.py:52: UserWarning: Warning, pybullet envs not installed\n",
      "  warnings.warn(\"Warning, pybullet envs not installed\")\n"
     ]
    },
    {
     "name": "stdout",
     "output_type": "stream",
     "text": [
      "pygame 2.0.1 (SDL 2.0.14, Python 3.6.10)\n",
      "Hello from the pygame community. https://www.pygame.org/contribute.html\n"
     ]
    }
   ],
   "source": [
    "from seagul.envs.simple_nonlinear import TreeSimple, TreeMulti\n",
    "import matplotlib.pyplot as plt\n",
    "from seagul.mesh import BoxMesh\n",
    "import numpy as np\n",
    "from itertools import product\n",
    "from matplotlib import cm\n",
    "%matplotlib tk"
   ]
  },
  {
   "cell_type": "code",
   "execution_count": 2,
   "metadata": {},
   "outputs": [
    {
     "name": "stderr",
     "output_type": "stream",
     "text": [
      "/home/sgillen/anaconda3/envs/baselines/lib/python3.6/site-packages/gym/logger.py:30: UserWarning: \u001b[33mWARN: Box bound precision lowered by casting to float32\u001b[0m\n",
      "  warnings.warn(colorize('%s: %s'%('WARN', msg % args), 'yellow'))\n"
     ]
    },
    {
     "data": {
      "text/plain": [
       "array([4.75412401, 2.        ])"
      ]
     },
     "execution_count": 2,
     "metadata": {},
     "output_type": "execute_result"
    }
   ],
   "source": [
    "env = TreeMulti(dt = .1)\n",
    "env.reset()"
   ]
  },
  {
   "cell_type": "code",
   "execution_count": 3,
   "metadata": {},
   "outputs": [],
   "source": [
    "du = .1\n",
    "U = np.arange(-env.L,env.L,du)\n",
    "X = np.arange(-1,11,du*env.dt)\n",
    "Y = np.arange(3,-2,env.g*env.dt)\n",
    "\n",
    "XY = list(product(X,Y))\n",
    "V = BoxMesh(du*env.dt) \n",
    "Vu = BoxMesh(du*env.dt) \n",
    "\n",
    "\n",
    "for xy in XY:\n",
    "    V[xy] = 0\n",
    "    Vu[xy] = 0\n"
   ]
  },
  {
   "cell_type": "code",
   "execution_count": 4,
   "metadata": {},
   "outputs": [],
   "source": [
    "#V[s1] = np.max(r(s1,u) + V[s2])\n",
    "for outer_loop in range(10):\n",
    "    for s1 in XY:\n",
    "        Vn_list = []\n",
    "        for u in U:\n",
    "            env.reset()\n",
    "            env.X = s1\n",
    "            s2, r, d, _ = env.step(u)\n",
    "            s2 = tuple(s2.tolist())\n",
    "            \n",
    "            if d is True:\n",
    "                Vn_list.append(r)\n",
    "            elif s2 in V:\n",
    "                Vn_list.append(V[s2] + r)\n",
    "            else:\n",
    "                if (s1[1] > 0):\n",
    "                    print(f\"{s1}->{s2} (u = {u}) not in mesh, skipping\")\n",
    "\n",
    "        if len(Vn_list):\n",
    "            V[s1] = np.max(Vn_list)\n",
    "            Vu[s1]= U[np.argmax(Vn_list)] \n",
    "        else:pass\n",
    "    \n",
    "    xx,yy = np.meshgrid(X,Y,indexing='ij')\n",
    "    uu = np.zeros_like(xx)\n",
    "    for i,x in enumerate(X):\n",
    "        for j,y in enumerate(Y):\n",
    "            uu[i,j] = Vu[(x,y)] \n",
    "\n",
    "\n",
    "    fig, ax = plt.subplots(subplot_kw={\"projection\": \"3d\"})\n",
    "    ax.plot_surface(xx,yy,uu, facecolors=cm.Spectral(uu/np.amax(uu)), alpha=.6)\n",
    "    ax.set_title(str(outer_loop))\n",
    "\n",
    "\n"
   ]
  },
  {
   "cell_type": "code",
   "execution_count": 5,
   "metadata": {},
   "outputs": [],
   "source": [
    "#V[s1] = np.max(r(s1,u) + V[s2])\n",
    "\n",
    "# def env_worker(s1) -> s2, r, d\n",
    "\n",
    "# for outer_loop in range(10):\n",
    "#     for s1 in XY:\n",
    "#         Vn_list = []\n",
    "#         for u in U:\n",
    "#             env.reset()\n",
    "#             env.X = s1\n",
    "#             s2, r, d, _ = env.step(u)\n",
    "#             s2 = tuple(s2.tolist())\n",
    "            \n",
    "#             if d is True:\n",
    "#                 Vn_list.append(r)\n",
    "#             elif s2 in V:\n",
    "#                 Vn_list.append(V[s2] + r)\n",
    "#             else:\n",
    "#                 if (s1[1] > 0):\n",
    "#                     print(f\"{s1}->{s2} (u = {u}) not in mesh, skipping\")\n",
    "\n",
    "#         if len(Vn_list):\n",
    "#             V[s1] = np.max(Vn_list)\n",
    "#             Vu[s1]= U[np.argmax(Vn_list)] \n",
    "#         else:pass\n",
    "    \n",
    "#     xx,yy = np.meshgrid(X,Y,indexing='ij')\n",
    "#     uu = np.zeros_like(xx)\n",
    "#     for i,x in enumerate(X):\n",
    "#         for j,y in enumerate(Y):\n",
    "#             uu[i,j] = Vu[(x,y)] \n",
    "\n",
    "\n",
    "#     fig, ax = plt.subplots(subplot_kw={\"projection\": \"3d\"})\n",
    "#     ax.plot_surface(xx,yy,uu, facecolors=cm.Spectral(uu/np.amax(uu)), alpha=.6)\n",
    "#     ax.set_title(str(outer_loop))\n",
    "\n",
    "\n"
   ]
  }
 ],
 "metadata": {
  "kernelspec": {
   "display_name": "Mujoco 1.5",
   "language": "python",
   "name": "python3"
  },
  "language_info": {
   "codemirror_mode": {
    "name": "ipython",
    "version": 3
   },
   "file_extension": ".py",
   "mimetype": "text/x-python",
   "name": "python",
   "nbconvert_exporter": "python",
   "pygments_lexer": "ipython3",
   "version": "3.6.10"
  }
 },
 "nbformat": 4,
 "nbformat_minor": 4
}
