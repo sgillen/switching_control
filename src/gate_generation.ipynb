{
 "cells": [
  {
   "cell_type": "code",
   "execution_count": 1,
   "metadata": {},
   "outputs": [
    {
     "name": "stderr",
     "output_type": "stream",
     "text": [
      "/home/sgillen/work/seagul/seagul/envs/__init__.py:56: UserWarning: Warning, pybullet envs not installed\n",
      "  warnings.warn(\"Warning, pybullet envs not installed\")\n",
      "/home/sgillen/work/seagul/seagul/envs/__init__.py:132: UserWarning: Warning, rllib environments not registered\n",
      "  warnings.warn(\"Warning, rllib environments not registered\")\n"
     ]
    }
   ],
   "source": [
    "import numpy as np\n",
    "from numpy import sin, cos, pi\n",
    "import gym\n",
    "import seagul.envs\n",
    "\n",
    "from seagul.integration import rk4,euler\n",
    "from torch.multiprocessing import Pool\n",
    "import matplotlib.pyplot as plt\n",
    "from itertools import product\n",
    "\n",
    "from seagul.nn import MLP, fit_model\n",
    "import torch\n",
    "\n"
   ]
  },
  {
   "cell_type": "markdown",
   "metadata": {},
   "source": [
    "# Initial learning of the gating function\n",
    "\n",
    "### We start by testing our LQR from a number of random initial conditions, and train a neural net to classify which states can be balanced and which cannot"
   ]
  },
  {
   "cell_type": "code",
   "execution_count": 9,
   "metadata": {},
   "outputs": [
    {
     "name": "stdout",
     "output_type": "stream",
     "text": [
      "Supervised data generated\n"
     ]
    }
   ],
   "source": [
    "# The reward function returns a done signal, to tell the environment that the trial is over\n",
    "# in this we bail if the reward is negative, to avoid wasting time on trials that have already failed \n",
    "def reward_fn(s, a):\n",
    "    reward = l1*np.sin(s[0]) + l2*np.sin(s[0] + s[1])\n",
    "    done = reward < 0\n",
    "    #done = False\n",
    "    return reward, done\n",
    "\n",
    "\n",
    "def do_rollout(args):\n",
    "    x, trial_num = args\n",
    "    th1, th2, dth1, dth2 = x\n",
    "    np.random.seed(trial_num)\n",
    "    local_reward_hist = np.ones((env.num_steps, 1)) * -1\n",
    "    local_obs_hist = np.zeros((env.num_steps, 4))\n",
    "    obs = env.reset(init_vec=[th1, th2, dth1, dth2])\n",
    "\n",
    "    for i in range(env.num_steps):\n",
    "        actions = np.clip(np.asarray(control(obs)), -max_torque, max_torque)\n",
    "        obs, reward, done, _ = env.step(actions)\n",
    "        local_reward_hist[i, :] = np.copy(reward)\n",
    "        local_obs_hist[i,:] = np.copy(obs)\n",
    "        if done:\n",
    "            break\n",
    "            \n",
    "    err = np.sqrt(np.sum(((local_obs_hist[-10:, :] - np.array([pi / 2, 0, 0, 0])) ** 2),axis=1))\n",
    "    return (err < .2).all(), i\n",
    "\n",
    "\n",
    "config = { \n",
    "          \"max_torque\": max_torque,\n",
    "          \"init_state_weights\": [0, 0, 0, 0],\n",
    "          \"max_t\" : 2.5,\n",
    "          \"dt\": dt,\n",
    "          \"m2\": m2,\n",
    "          \"m1\": m1,\n",
    "          \"l1\": l1,\n",
    "          \"lc1\": lc1,\n",
    "          \"lc2\": lc2,\n",
    "          \"i1\": I1,\n",
    "          \"i2\": I2,\n",
    "          \"integrator\" : integrator,\n",
    "          \"reward_fn\": reward_fn,\n",
    "          \"act_hold\": 1\n",
    "          }\n",
    "\n",
    "env = gym.make('su_acrobot-v0', **config)\n",
    "\n",
    "num_trials = 250000\n",
    "\n",
    "X = np.zeros((num_trials, 4), dtype=np.float32)\n",
    "Y = np.zeros((num_trials, 1), dtype=np.float32)\n",
    "\n",
    "# To speed things along we generate two sets of points, one that is centered around what we guess the region of attraction should be\n",
    "# And one that included all possible initial conditions. The result is a data set with a higher density\n",
    "# of points near where we expect the decision boundary to be you can certainly learn the gating function with only the second set of points.\n",
    "# It just takes more data and more time,\n",
    "\n",
    "th1_min = pi / 2 - .5\n",
    "th1_max = pi / 2 + .5\n",
    "th2_min = -1\n",
    "th2_max = 1\n",
    "th1dot_min = -5\n",
    "th1dot_max = 5\n",
    "th2dot_min = -10\n",
    "th2dot_max = 10\n",
    "\n",
    "samples = np.random.random_sample((int(num_trials/2), 4))\n",
    "samples *= np.array([th1_min - th1_max, th2_min - th2_max, th1dot_min - th1dot_max, th2dot_min - th2dot_max])\n",
    "samples += np.array([th1_max, th2_max, th1dot_max, th2dot_max])\n",
    "\n",
    "\n",
    "total_steps = 0\n",
    "pool = Pool()  # defaults to number of available CPU's\n",
    "for i, res in enumerate(pool.imap(do_rollout, zip(samples, range(int(num_trials/2))))):\n",
    "    y, steps = res\n",
    "    total_steps += steps\n",
    "    X[i, :] = samples[i, :]\n",
    "    Y[i] = y\n",
    "\n",
    "th1_min = 0\n",
    "th1_max = 2*pi\n",
    "th2_min = -pi\n",
    "th2_max = pi\n",
    "th1dot_min = -10\n",
    "th1dot_max = 10\n",
    "th2dot_min = -30\n",
    "th2dot_max = 30\n",
    "\n",
    "samples = np.random.random_sample((int(num_trials/2), 4))\n",
    "samples *= np.array([th1_min - th1_max, th2_min - th2_max, th1dot_min - th1dot_max, th2dot_min - th2dot_max])\n",
    "samples += np.array([th1_max, th2_max, th1dot_max, th2dot_max])\n",
    "total_steps = 0\n",
    "\n",
    "for i, res in enumerate(pool.imap(do_rollout, zip(samples, range(int(num_trials/2), int(num_trials))))):\n",
    "    y, steps = res\n",
    "    total_steps += steps\n",
    "    X[i+int(num_trials/2), :] = samples[i, :]\n",
    "    Y[i+int(num_trials/2)] = y\n",
    "    \n",
    "\n",
    "print(\"Supervised data generated\")"
   ]
  },
  {
   "cell_type": "code",
   "execution_count": 4,
   "metadata": {},
   "outputs": [
    {
     "name": "stderr",
     "output_type": "stream",
     "text": [
      "100%|██████████| 50/50 [01:32<00:00,  1.85s/it]\n"
     ]
    },
    {
     "data": {
      "text/plain": [
       "[<matplotlib.lines.Line2D at 0x7eff389c3cd0>]"
      ]
     },
     "execution_count": 4,
     "metadata": {},
     "output_type": "execute_result"
    },
    {
     "data": {
      "image/png": "[encoded data removed]",
      "text/plain": [
       "<Figure size 432x288 with 1 Axes>"
      ]
     },
     "metadata": {
      "needs_background": "light"
     },
     "output_type": "display_data"
    }
   ],
   "source": [
    "net = MLP(4, 1, 2, 32)\n",
    "\n",
    "w = 1e-2 # Weighting parameter to encourage learning a conservative region of attraction\n",
    "class_weight = torch.tensor(Y.shape[0]/sum(Y)*w, dtype=torch.float32)\n",
    "# This is just doing some pretty standard supervised learning, the source is available in seagul\n",
    "loss_hist = fit_model(net, X, Y, 50, batch_size=2048, loss_fn=torch.nn.BCEWithLogitsLoss(pos_weight=class_weight))\n",
    "\n",
    "plt.close()\n",
    "plt.plot(loss_hist)"
   ]
  },
  {
   "cell_type": "code",
   "execution_count": null,
   "metadata": {
    "pycharm": {
     "name": "#%%\n"
    }
   },
   "outputs": [],
   "source": []
  },
  {
   "cell_type": "markdown",
   "metadata": {
    "pycharm": {
     "name": "#%% md\n"
    }
   },
   "source": [
    "# Gate Function Visualization\n",
    "\n",
    "### Now we visualize the ouput of our gating function, as a sanity check, also gives us something to compare the final gating function to."
   ]
  },
  {
   "cell_type": "code",
   "execution_count": 5,
   "metadata": {
    "pycharm": {
     "name": "#%%\n"
    }
   },
   "outputs": [
    {
     "data": {
      "image/png": "[encoded data removed]",
      "text/plain": [
       "<Figure size 576x576 with 2 Axes>"
      ]
     },
     "metadata": {
      "needs_background": "light"
     },
     "output_type": "display_data"
    },
    {
     "data": {
      "image/png": "[encoded data removed]",
      "text/plain": [
       "<Figure size 576x576 with 2 Axes>"
      ]
     },
     "metadata": {
      "needs_background": "light"
     },
     "output_type": "display_data"
    }
   ],
   "source": [
    "n_thdot = 1\n",
    "n_th = 1000\n",
    "\n",
    "th1_vals = np.linspace(0, 2*pi, n_th)\n",
    "th2_vals = np.linspace(-pi, pi, n_th)\n",
    "\n",
    "th1dot_vals = np.linspace(-10, 10, n_th)\n",
    "th2dot_vals = np.linspace(-30, 30, n_th)\n",
    "\n",
    "\n",
    "coords = np.zeros((n_th, n_th, 4), dtype=np.float32)\n",
    "for i, j in product(range(n_th), range(n_th)):\n",
    "    coords[j, i, :] = np.array([th1_vals[i], th2_vals[j], 0, 0])\n",
    "\n",
    "    \n",
    "sig = torch.nn.Sigmoid() #BCEWithLogits included the sigmoid layer for us, but we need to apply it ourselves outside that context\n",
    "preds = sig(net(coords.reshape(-1, 4)).reshape(n_th, n_th).detach())\n",
    "\n",
    "fig, ax = plt.subplots(n_thdot, n_thdot, figsize=(8, 8))\n",
    "# generate 2 2d grids for the x & y bounds\n",
    "x, y = np.meshgrid(th1_vals, th2_vals)\n",
    "z = preds\n",
    "\n",
    "# x and y are bounds, so z should be the value *inside* those bounds.\n",
    "# Therefore, remove the last value from the z array.\n",
    "z = z[:-1, :-1]\n",
    "z_min, z_max = 0, np.abs(z).max()\n",
    "\n",
    "c = ax.pcolormesh(x, y, z, cmap='RdBu', vmin=z_min, vmax=z_max)\n",
    "ax.set_title('Gate map slice at dth1 = dth2 = 0')\n",
    "ax.set_xlabel('Th1')\n",
    "ax.set_ylabel('Th2')\n",
    "\n",
    "# set the limits of the plot to the limits of the data\n",
    "ax.axis([x.min(), x.max(), y.min(), y.max()])\n",
    "fig.colorbar(c, ax=ax)\n",
    "plt.show()\n",
    "\n",
    "coords = np.zeros((n_th, n_th, 4), dtype=np.float32)\n",
    "\n",
    "for i, j in product(range(n_th), range(n_th)):\n",
    "    coords[j, i, :] = np.array([pi/2, 0, th1dot_vals[i], th2dot_vals[j]])\n",
    "\n",
    "preds = sig(net(coords.reshape(-1, 4)).reshape(n_th, n_th).detach())\n",
    "\n",
    "fig, ax = plt.subplots(n_thdot, n_thdot, figsize=(8, 8))\n",
    "# generate 2 2d grids for the x & y bounds\n",
    "x, y = np.meshgrid(th1dot_vals, th2dot_vals)\n",
    "z = preds\n",
    "\n",
    "# x and y are bounds, so z should be the value *inside* those bounds.\n",
    "# Therefore, remove the last value from the z array.\n",
    "z = z[:-1, :-1]\n",
    "z_min, z_max = 0, np.abs(z).max()\n",
    "\n",
    "c = ax.pcolormesh(x, y, z, cmap='RdBu', vmin=z_min, vmax=z_max)\n",
    "ax.set_title('Gate map slice at th1 = th2 = 0')\n",
    "ax.set_xlabel('dth1')\n",
    "ax.set_ylabel('dth2')\n",
    "# set the limits of the plot to the limits of the data\n",
    "ax.axis([x.min(), x.max(), y.min(), y.max()])\n",
    "fig.colorbar(c, ax=ax)\n",
    "plt.show()"
   ]
  },
  {
   "cell_type": "markdown",
   "metadata": {
    "pycharm": {
     "name": "#%% md\n"
    }
   },
   "source": [
    "# Testing the gate function\n",
    "\n",
    "### Now we'll do some tests to see if our gate function is any good. When the gate decided we should be swinging up we will take random actions, otherwise we switch to the LQR we defined"
   ]
  },
  {
   "cell_type": "code",
   "execution_count": 6,
   "metadata": {},
   "outputs": [
    {
     "name": "stdout",
     "output_type": "stream",
     "text": [
      "The LQR was chosen in 85 trials\n",
      "Of those trials 0.870588 percent were successful in balancing the acrobot\n"
     ]
    }
   ],
   "source": [
    "# Redefine reward function so that we don't bail early\n",
    "def reward_fn(s, a):\n",
    "    reward = np.sin(s[0]) + 2 * np.sin(s[0] + s[1])\n",
    "    return reward, False\n",
    "\n",
    "\n",
    "def do_rollout(trial_num):\n",
    "    np.random.seed()\n",
    "    hold_count = 0\n",
    "\n",
    "    obs = env.reset()\n",
    "    local_lqr = False\n",
    "\n",
    "    actions = np.random.randn(1) * max_torque\n",
    "\n",
    "    local_state_hist = np.zeros((env.num_steps, env.observation_space.shape[0]))\n",
    "    local_reward_hist = np.zeros((env.num_steps, 1))\n",
    "    local_gate_hist = np.zeros((env.num_steps, 1))\n",
    "    local_action_hist = np.zeros((env.num_steps, 1))\n",
    "    lqr_state = None\n",
    "\n",
    "\n",
    "    for i in range(env.num_steps):\n",
    "        obs = np.array(obs, dtype=np.float32)\n",
    "        if sig(net(obs)) > thresh or local_lqr:\n",
    "            actions = np.clip(np.asarray(control(obs)), -max_torque, max_torque)\n",
    "            local_lqr = True\n",
    "            \n",
    "            if lqr_state is None:\n",
    "                lqr_state = np.copy(obs)\n",
    "                \n",
    "            local_gate_hist[i] = 1\n",
    "        else:\n",
    "            local_gate_hist[i] = 0\n",
    "            if hold_count == act_hold:\n",
    "                actions = np.random.randn(1) * max_torque\n",
    "                hold_count = 0\n",
    "\n",
    "        #hold_count += 1\n",
    "        obs, reward, done, _ = env.step(actions)\n",
    "        local_action_hist[i, :] = np.copy(actions)\n",
    "        local_state_hist[i, :] = np.copy(obs)\n",
    "        local_reward_hist[i, :] = np.copy(reward)\n",
    "\n",
    "    return local_action_hist, local_state_hist, local_reward_hist, local_gate_hist, local_lqr, lqr_state\n",
    "\n",
    "\n",
    "config = {\"init_state\": [-pi / 2, 0, 0, 0],\n",
    "          \"max_torque\": max_torque,\n",
    "          \"init_state_weights\": [np.pi, np.pi, 0, 0],\n",
    "          \"dt\": dt,\n",
    "          \"m2\": m2,\n",
    "          \"m1\": m1,\n",
    "          \"l1\": l1,\n",
    "          \"lc1\": lc1,\n",
    "          \"lc2\": lc2,\n",
    "          \"i1\": I1,\n",
    "          \"i2\": I2,\n",
    "          \"integrator\" : integrator,\n",
    "          \"reward_fn\": reward_fn,\n",
    "          \"act_hold\": 1,\n",
    "          \"max_t\" : 10\n",
    "          }\n",
    "\n",
    "env = gym.make('su_acrobot-v0', **config)\n",
    "\n",
    "thresh = .9 # Picking this was also more art than science.  Generally I've found you can look at gate_fn(for a new idea) \n",
    "\n",
    "num_trials = 1000\n",
    "action_hist = np.zeros((num_trials, env.num_steps, 1))\n",
    "state_hist = np.zeros((num_trials, env.num_steps, env.observation_space.shape[0]))\n",
    "reward_hist = np.zeros((num_trials, env.num_steps, 1))\n",
    "gate_hist = np.zeros((num_trials, env.num_steps, 1))\n",
    "err_hist = np.zeros((num_trials, 10))\n",
    "\n",
    "lqr_list = []\n",
    "lqr_states = []\n",
    "success_list = []\n",
    "\n",
    "act_hold = 0\n",
    "hold_count = 0\n",
    "\n",
    "pool = Pool() # defaults to number of available CPU's\n",
    "for i, res in enumerate(pool.imap(do_rollout,range(num_trials))):\n",
    "    acts, obs, rews, gate, lqr_on, lqr_state = res\n",
    "    action_hist[i, :, :] = acts\n",
    "    state_hist[i, :, :] = obs\n",
    "    reward_hist[i, :, :] = rews\n",
    "    gate_hist[i, :, :] = gate\n",
    "    err_hist[i,:] = np.sqrt(np.sum(((state_hist[i, -10:, :] - np.array([pi / 2, 0, 0, 0])) ** 2),axis=1))\n",
    "\n",
    "    if lqr_on:\n",
    "        lqr_list.append(i)\n",
    "        #print(err_hist[i])\n",
    "        #print(reward_hist[i,-1])\n",
    "        if (err_hist[i,:] < .25).all():\n",
    "            success_list.append(i)\n",
    "            lqr_states.append((True,lqr_state - np.array([pi/2,0,0,0]), err_hist[i]))\n",
    "        else:\n",
    "            lqr_states.append((False,lqr_state - np.array([pi/2,0,0,0]), err_hist[i]))\n",
    "\n",
    "\n",
    "success_percent = len(success_list)/len(lqr_list)\n",
    "            \n",
    "print(\"The LQR was chosen in %i trials\" % len(lqr_list))\n",
    "print(\"Of those trials %f percent were successful in balancing the acrobot\" % success_percent)"
   ]
  },
  {
   "cell_type": "code",
   "execution_count": 7,
   "metadata": {
    "pycharm": {
     "name": "#%%\n"
    }
   },
   "outputs": [],
   "source": [
    "torch.save(net, \"/home/sgillen/work/seagul/seagul/notebooks/switching/warm/gate25_rk\")\n",
    "torch.save(X, \"/home/sgillen/work/seagul/seagul/notebooks/switching/warm/X25_rk\")\n",
    "torch.save(Y, \"/home/sgillen/work/seagul/seagul/notebooks/switching/warm/Y25_rk\")"
   ]
  }
 ],
 "metadata": {
  "kernelspec": {
   "display_name": "Stable Baselines (3.6)",
   "language": "python",
   "name": "stable"
  },
  "language_info": {
   "codemirror_mode": {
    "name": "ipython",
    "version": 3
   },
   "file_extension": ".py",
   "mimetype": "text/x-python",
   "name": "python",
   "nbconvert_exporter": "python",
   "pygments_lexer": "ipython3",
   "version": "3.6.9"
  },
  "pycharm": {
   "stem_cell": {
    "cell_type": "raw",
    "metadata": {
     "collapsed": false
    },
    "source": []
   }
  }
 },
 "nbformat": 4,
 "nbformat_minor": 4
}
