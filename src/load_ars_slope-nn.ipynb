{
 "cells": [
  {
   "cell_type": "code",
   "execution_count": null,
   "metadata": {},
   "outputs": [],
   "source": [
    "import torch.nn as nn\n",
    "import numpy as np\n",
    "import gym\n",
    "from seagul.rl.ars.meta_ars import MetaARSAgent\n",
    "import matplotlib.pyplot as plt\n",
    "import torch\n",
    "import dill\n",
    "import seagul.envs\n",
    "import pybullet_envs\n",
    "import pickle\n",
    "from scipy.signal import find_peaks\n",
    "\n",
    "from common import *\n",
    "\n",
    "%load_ext autoreload\n",
    "%autoreload 2\n",
    "\n",
    "from IPython.display import Audio\n",
    "sound_file = '/home/sgillen/Downloads/chime.wav'\n",
    "#Audio(filename=sound_file, autoplay=True)"
   ]
  },
  {
   "cell_type": "code",
   "execution_count": null,
   "metadata": {},
   "outputs": [],
   "source": [
    "meta_agent = pickle.load(open(\"agents/meta_hmap_hopper_flat4\", \"rb\"))\n",
    "agent0 = meta_agent.agents[4]"
   ]
  },
  {
   "cell_type": "code",
   "execution_count": null,
   "metadata": {},
   "outputs": [],
   "source": [
    "env_name = \"hmap_hopper-v0\"\n",
    "seed = 4\n",
    "env = gym.make(env_name,slope_set=[0], random=True)\n",
    "#env = gym.make(\"Hopper-v2\")\n",
    "\n",
    "#agent = meta_agent.agents[seed]\n",
    "obs, act, rew, _ = do_rollout(env, agent0.model, render=False, ep_length=1000)\n",
    "print(sum(rew))\n",
    "plt.plot(obs);"
   ]
  },
  {
   "cell_type": "code",
   "execution_count": null,
   "metadata": {},
   "outputs": [],
   "source": [
    "import copy\n",
    "slope_set = [-.01, 0.0, .01]\n",
    "agent = copy.deepcopy(agent0)\n",
    "#agent.postprocessor = mdim_div\n",
    "agent.env_config = {\"slope_set\":slope_set, \"random\":True}\n",
    "agent.learn(200)\n",
    "agent_list.append(agent)\n",
    "    \n",
    "Audio(filename=sound_file, autoplay=True)"
   ]
  },
  {
   "cell_type": "code",
   "execution_count": null,
   "metadata": {},
   "outputs": [],
   "source": [
    "import copy\n",
    "agent_list = []\n",
    "slope_set = [-.02, 0.0, .02]\n",
    "for slope in slope_set:\n",
    "    agent = copy.deepcopy(agent0)\n",
    "    #agent.postprocessor = mdim_div\n",
    "    agent.env_config = {\"slope_set\":[slope], \"random\":False}\n",
    "    agent.learn(200)\n",
    "    agent_list.append(agent)\n",
    "    \n",
    "Audio(filename=sound_file, autoplay=True)"
   ]
  },
  {
   "cell_type": "code",
   "execution_count": null,
   "metadata": {},
   "outputs": [],
   "source": [
    "import xarray as xr\n",
    "\n",
    "n_runs = 5\n",
    "data = xr.DataArray(np.zeros((len(slope_set), len(agent_list), n_runs)),\n",
    "                    dims=(\"slope\", \"agent\", \"run\"))\n",
    "\n",
    "for i, slope in enumerate(slope_set):\n",
    "    env = gym.make(env_name, slope_set=[slope], random=False)\n",
    "    for j, agent in enumerate(agent_list):\n",
    "        for run in range(n_runs):\n",
    "            obs,act,rew,_ = do_rollout(env, agent.model)\n",
    "            data.loc[i, j, run] = sum(rew).item()\n",
    "            "
   ]
  },
  {
   "cell_type": "code",
   "execution_count": null,
   "metadata": {},
   "outputs": [],
   "source": [
    "data.mean(dim='run')"
   ]
  },
  {
   "cell_type": "code",
   "execution_count": null,
   "metadata": {},
   "outputs": [],
   "source": []
  },
  {
   "cell_type": "code",
   "execution_count": null,
   "metadata": {},
   "outputs": [],
   "source": [
    "from seagul.nn import fit_model, MLP\n",
    "net = MLP(12, 3, 2, 32, input_bias=True)\n",
    "\n",
    "loss_hist = fit_model(net, X, Y, 25, batch_size=2048, loss_fn=torch.nn.CrossEntropyLoss(),use_tqdm=False)\n",
    "\n",
    "plt.plot(loss_hist)"
   ]
  },
  {
   "cell_type": "code",
   "execution_count": null,
   "metadata": {},
   "outputs": [],
   "source": [
    "print(X[:,-1])\n",
    "net(X)"
   ]
  },
  {
   "cell_type": "code",
   "execution_count": null,
   "metadata": {},
   "outputs": [],
   "source": [
    "#pols = [agent.model for agent in agent_list]\n",
    "pols = [agent.model for agent in agent_list]\n",
    "#npol.state_std[-1] = 1\n",
    "npol = copy.deepcopy(pols[1])\n",
    "npol.state_std[-1] = .01\n",
    "def do_nn_rollout_from_state(env, pols, init_state, obs_std=0, act_std=0, num_steps=1000, render=True):\n",
    "    torch.autograd.set_grad_enabled(False)\n",
    "\n",
    "    act_list = []\n",
    "    obs_list = []\n",
    "    rew_list = []\n",
    "    val_list = []\n",
    "\n",
    "    obs = my_reset(env, init_state)\n",
    "    done = False\n",
    "    obs_size = env.observation_space.shape[0]\n",
    "    act_size = env.action_space.shape[0]\n",
    "    pi = 0; old_pi = pi\n",
    "    policy = pols[pi]\n",
    "\n",
    "    while not done:\n",
    "        if render:\n",
    "            env.render()\n",
    "            time.sleep(.01)\n",
    "            \n",
    "        n_obs = (obs - npol.state_mean)/npol.state_std\n",
    "    \n",
    "        preds = net(np.array(n_obs,dtype=np.float32))\n",
    "        pi = torch.argmax(preds)\n",
    "#         if n_obs[-1] < -tol:\n",
    "#             pi = 0\n",
    "#         elif -tol <= n_obs[-1] <= tol:\n",
    "#             pi = 1\n",
    "#         elif  n_obs[-1] >= tol:\n",
    "#             pi = 2\n",
    "#         else:\n",
    "          #  panic\n",
    "        \n",
    "        if pi != old_pi:\n",
    "            print(f\"went from {old_pi} to {pi}\")\n",
    "\n",
    "        #print(env.get_height(0), env.get_height(1), env.get_height(2), obs[-1])\n",
    "        old_pi = pi\n",
    "        #policy = pols[pi]\n",
    "\n",
    "        policy = pols[pi]\n",
    "\n",
    "        obs += np.random.randn(obs_size)*obs_std\n",
    "        obs_list.append(np.copy(obs))\n",
    "        \n",
    "        \n",
    "        act,_,_,_ = policy.step(obs)\n",
    "        act += np.random.randn(act_size)*act_std\n",
    "        obs, rew, done, _ = env.step(act)\n",
    "        \n",
    "        act_list.append(np.copy(act))\n",
    "        rew_list.append(rew)\n",
    "        \n",
    "    ep_obs = np.stack(obs_list)\n",
    "    ep_act = np.stack(act_list)\n",
    "    ep_rew = np.array(rew_list).reshape(-1,1)\n",
    "    ep_vals = np.array(val_list).reshape(-1,1)\n",
    "\n",
    "    \n",
    "    torch.autograd.set_grad_enabled(True)\n",
    "    return ep_obs, ep_act, ep_rew, ep_vals\n",
    "\n",
    "#mesh_map = {state.id:state for state in mesh.values()}\n",
    "\n",
    "env.unwrapped.slope_set = [-.01, 0.0, 0.01]\n",
    "#env.unwrapped.slope_set = [0.0]\n",
    "\n",
    "env.unwrapped.random=True\n",
    "obs,act,rews,vals = do_nn_rollout_from_state(env, pols, env.reset(), render=True)"
   ]
  },
  {
   "cell_type": "code",
   "execution_count": null,
   "metadata": {},
   "outputs": [],
   "source": [
    "print(sum(rews))\n",
    "plt.plot(((obs - npol.state_mean)/npol.state_std)[:,-1]);"
   ]
  },
  {
   "cell_type": "code",
   "execution_count": null,
   "metadata": {},
   "outputs": [],
   "source": [
    "plt.plot(net(np.array(obs,dtype=np.float32)).detach())\n",
    "plt.legend([0,1,2])"
   ]
  },
  {
   "cell_type": "code",
   "execution_count": null,
   "metadata": {},
   "outputs": [],
   "source": [
    "X2 = (obs - npol.state_mean)/npol.state_std\n",
    "X2 = np.array(X2,dtype=np.float32)\n",
    "tol = 0.1\n",
    "#X = [(point.state - npol.state_mean)/npol.state_std for point in mesh_map.values()]\n",
    "\n",
    "Yl = []\n",
    "for x in X2:\n",
    "    if x[-1] < -tol:\n",
    "        Yl.append(0)\n",
    "    elif -tol <= x[-1] <= tol:\n",
    "        Yl.append(1)\n",
    "    elif  x[-1] >= tol:\n",
    "        Yl.append(2)\n",
    "    else:\n",
    "        panic\n",
    "        \n",
    "    \n",
    "\n",
    "Y2 = np.stack(Yl)\n",
    "Y2 = np.array(Y2,dtype=np.long)"
   ]
  },
  {
   "cell_type": "code",
   "execution_count": null,
   "metadata": {},
   "outputs": [],
   "source": [
    "loss_hist = fit_model(net, X2, Y2, 10, batch_size=512, loss_fn=torch.nn.CrossEntropyLoss(),use_tqdm=False)\n"
   ]
  },
  {
   "cell_type": "code",
   "execution_count": null,
   "metadata": {},
   "outputs": [],
   "source": [
    "Y2"
   ]
  },
  {
   "cell_type": "code",
   "execution_count": null,
   "metadata": {},
   "outputs": [],
   "source": [
    "((obs - npol.state_mean)/npol.state_std)[:,-1]"
   ]
  },
  {
   "cell_type": "code",
   "execution_count": null,
   "metadata": {},
   "outputs": [],
   "source": [
    "X2[:,-1]"
   ]
  },
  {
   "cell_type": "code",
   "execution_count": null,
   "metadata": {},
   "outputs": [],
   "source": []
  }
 ],
 "metadata": {
  "kernelspec": {
   "display_name": "Baselines (3.6)",
   "language": "python",
   "name": "baselines"
  },
  "language_info": {
   "codemirror_mode": {
    "name": "ipython",
    "version": 3
   },
   "file_extension": ".py",
   "mimetype": "text/x-python",
   "name": "python",
   "nbconvert_exporter": "python",
   "pygments_lexer": "ipython3",
   "version": "3.6.8"
  }
 },
 "nbformat": 4,
 "nbformat_minor": 4
}
